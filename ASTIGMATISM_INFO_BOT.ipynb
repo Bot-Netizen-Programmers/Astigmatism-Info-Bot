{
  "nbformat": 4,
  "nbformat_minor": 0,
  "metadata": {
    "colab": {
      "name": "ASTIGMATISM INFO BOT.ipynb",
      "provenance": [],
      "collapsed_sections": [],
      "authorship_tag": "ABX9TyOBocQYSePUge5bsZUP5Itx",
      "include_colab_link": true
    },
    "kernelspec": {
      "name": "python3",
      "display_name": "Python 3"
    },
    "language_info": {
      "name": "python"
    }
  },
  "cells": [
    {
      "cell_type": "markdown",
      "metadata": {
        "id": "view-in-github",
        "colab_type": "text"
      },
      "source": [
        "<a href=\"https://colab.research.google.com/github/Bot-Netizen-Programmers/Astigmatism-Info-Bot/blob/Ver-1/ASTIGMATISM_INFO_BOT.ipynb\" target=\"_parent\"><img src=\"https://colab.research.google.com/assets/colab-badge.svg\" alt=\"Open In Colab\"/></a>"
      ]
    },
    {
      "cell_type": "code",
      "metadata": {
        "colab": {
          "base_uri": "https://localhost:8080/"
        },
        "id": "IXPIB3Zh6Dj-",
        "outputId": "a48ad0dd-273a-43b6-c333-fcc35236f322"
      },
      "source": [
        "pip install nltk"
      ],
      "execution_count": null,
      "outputs": [
        {
          "output_type": "stream",
          "name": "stdout",
          "text": [
            "Requirement already satisfied: nltk in /usr/local/lib/python3.7/dist-packages (3.2.5)\n",
            "Requirement already satisfied: six in /usr/local/lib/python3.7/dist-packages (from nltk) (1.15.0)\n"
          ]
        }
      ]
    },
    {
      "cell_type": "code",
      "metadata": {
        "colab": {
          "base_uri": "https://localhost:8080/"
        },
        "id": "8kuPK_OS6WN8",
        "outputId": "fdd00423-9570-4c76-b5e1-17a4eeb1834a"
      },
      "source": [
        "pip install newspaper3k"
      ],
      "execution_count": null,
      "outputs": [
        {
          "output_type": "stream",
          "name": "stdout",
          "text": [
            "Collecting newspaper3k\n",
            "  Downloading newspaper3k-0.2.8-py3-none-any.whl (211 kB)\n",
            "\u001b[K     |████████████████████████████████| 211 kB 7.4 MB/s \n",
            "\u001b[?25hCollecting jieba3k>=0.35.1\n",
            "  Downloading jieba3k-0.35.1.zip (7.4 MB)\n",
            "\u001b[K     |████████████████████████████████| 7.4 MB 28.7 MB/s \n",
            "\u001b[?25hRequirement already satisfied: python-dateutil>=2.5.3 in /usr/local/lib/python3.7/dist-packages (from newspaper3k) (2.8.2)\n",
            "Collecting feedparser>=5.2.1\n",
            "  Downloading feedparser-6.0.8-py3-none-any.whl (81 kB)\n",
            "\u001b[K     |████████████████████████████████| 81 kB 9.1 MB/s \n",
            "\u001b[?25hCollecting feedfinder2>=0.0.4\n",
            "  Downloading feedfinder2-0.0.4.tar.gz (3.3 kB)\n",
            "Collecting tinysegmenter==0.3\n",
            "  Downloading tinysegmenter-0.3.tar.gz (16 kB)\n",
            "Requirement already satisfied: lxml>=3.6.0 in /usr/local/lib/python3.7/dist-packages (from newspaper3k) (4.2.6)\n",
            "Requirement already satisfied: PyYAML>=3.11 in /usr/local/lib/python3.7/dist-packages (from newspaper3k) (3.13)\n",
            "Collecting tldextract>=2.0.1\n",
            "  Downloading tldextract-3.1.2-py2.py3-none-any.whl (87 kB)\n",
            "\u001b[K     |████████████████████████████████| 87 kB 5.5 MB/s \n",
            "\u001b[?25hRequirement already satisfied: nltk>=3.2.1 in /usr/local/lib/python3.7/dist-packages (from newspaper3k) (3.2.5)\n",
            "Collecting cssselect>=0.9.2\n",
            "  Downloading cssselect-1.1.0-py2.py3-none-any.whl (16 kB)\n",
            "Requirement already satisfied: Pillow>=3.3.0 in /usr/local/lib/python3.7/dist-packages (from newspaper3k) (7.1.2)\n",
            "Requirement already satisfied: beautifulsoup4>=4.4.1 in /usr/local/lib/python3.7/dist-packages (from newspaper3k) (4.6.3)\n",
            "Requirement already satisfied: requests>=2.10.0 in /usr/local/lib/python3.7/dist-packages (from newspaper3k) (2.23.0)\n",
            "Requirement already satisfied: six in /usr/local/lib/python3.7/dist-packages (from feedfinder2>=0.0.4->newspaper3k) (1.15.0)\n",
            "Collecting sgmllib3k\n",
            "  Downloading sgmllib3k-1.0.0.tar.gz (5.8 kB)\n",
            "Requirement already satisfied: chardet<4,>=3.0.2 in /usr/local/lib/python3.7/dist-packages (from requests>=2.10.0->newspaper3k) (3.0.4)\n",
            "Requirement already satisfied: certifi>=2017.4.17 in /usr/local/lib/python3.7/dist-packages (from requests>=2.10.0->newspaper3k) (2021.5.30)\n",
            "Requirement already satisfied: urllib3!=1.25.0,!=1.25.1,<1.26,>=1.21.1 in /usr/local/lib/python3.7/dist-packages (from requests>=2.10.0->newspaper3k) (1.24.3)\n",
            "Requirement already satisfied: idna<3,>=2.5 in /usr/local/lib/python3.7/dist-packages (from requests>=2.10.0->newspaper3k) (2.10)\n",
            "Collecting requests-file>=1.4\n",
            "  Downloading requests_file-1.5.1-py2.py3-none-any.whl (3.7 kB)\n",
            "Requirement already satisfied: filelock>=3.0.8 in /usr/local/lib/python3.7/dist-packages (from tldextract>=2.0.1->newspaper3k) (3.3.0)\n",
            "Building wheels for collected packages: tinysegmenter, feedfinder2, jieba3k, sgmllib3k\n",
            "  Building wheel for tinysegmenter (setup.py) ... \u001b[?25l\u001b[?25hdone\n",
            "  Created wheel for tinysegmenter: filename=tinysegmenter-0.3-py3-none-any.whl size=13552 sha256=71ec0d97c0fa3f350ea1e85bb464508876c39cdb2c51104eb0eb401a0c1dc36d\n",
            "  Stored in directory: /root/.cache/pip/wheels/df/67/41/faca10fa501ca010be41b49d40360c2959e1c4f09bcbfa37fa\n",
            "  Building wheel for feedfinder2 (setup.py) ... \u001b[?25l\u001b[?25hdone\n",
            "  Created wheel for feedfinder2: filename=feedfinder2-0.0.4-py3-none-any.whl size=3356 sha256=2906204989c89208781b649a1bb7f8babc75c866985cef6a062857e230351cb8\n",
            "  Stored in directory: /root/.cache/pip/wheels/7f/d4/8f/6e2ca54744c9d7292d88ddb8d42876bcdab5e6d84a21c10346\n",
            "  Building wheel for jieba3k (setup.py) ... \u001b[?25l\u001b[?25hdone\n",
            "  Created wheel for jieba3k: filename=jieba3k-0.35.1-py3-none-any.whl size=7398405 sha256=1bda4da7c53b643a4f267c060f2abde3590e9042520512cc823b27b3085a2ba7\n",
            "  Stored in directory: /root/.cache/pip/wheels/4c/91/46/3c208287b726df325a5979574324878b679116e4baae1af3c3\n",
            "  Building wheel for sgmllib3k (setup.py) ... \u001b[?25l\u001b[?25hdone\n",
            "  Created wheel for sgmllib3k: filename=sgmllib3k-1.0.0-py3-none-any.whl size=6065 sha256=a17340e7fbff4fed132a6d19cac199cdd5bb14e5ce2c3e061a28375697f1c4a9\n",
            "  Stored in directory: /root/.cache/pip/wheels/73/ad/a4/0dff4a6ef231fc0dfa12ffbac2a36cebfdddfe059f50e019aa\n",
            "Successfully built tinysegmenter feedfinder2 jieba3k sgmllib3k\n",
            "Installing collected packages: sgmllib3k, requests-file, tldextract, tinysegmenter, jieba3k, feedparser, feedfinder2, cssselect, newspaper3k\n",
            "Successfully installed cssselect-1.1.0 feedfinder2-0.0.4 feedparser-6.0.8 jieba3k-0.35.1 newspaper3k-0.2.8 requests-file-1.5.1 sgmllib3k-1.0.0 tinysegmenter-0.3 tldextract-3.1.2\n"
          ]
        }
      ]
    },
    {
      "cell_type": "code",
      "metadata": {
        "id": "WmkkmvHa6dw5"
      },
      "source": [
        "from newspaper import Article\n",
        "import random\n",
        "import string\n",
        "import nltk\n",
        "from sklearn.feature_extraction.text import CountVectorizer\n",
        "from sklearn.metrics.pairwise import cosine_similarity\n",
        "import numpy as np\n",
        "import warnings\n",
        "warnings.filterwarnings('ignore')"
      ],
      "execution_count": null,
      "outputs": []
    },
    {
      "cell_type": "code",
      "metadata": {
        "colab": {
          "base_uri": "https://localhost:8080/"
        },
        "id": "1cHyFx6TFnv5",
        "outputId": "043693d5-5242-43d2-9c84-2f59de077fb8"
      },
      "source": [
        "nltk.download('punkt', quiet=True)"
      ],
      "execution_count": null,
      "outputs": [
        {
          "output_type": "execute_result",
          "data": {
            "text/plain": [
              "True"
            ]
          },
          "metadata": {},
          "execution_count": 4
        }
      ]
    },
    {
      "cell_type": "code",
      "metadata": {
        "id": "XMN1bQdQF7UH"
      },
      "source": [
        "article = Article('https://www.mayoclinic.org/diseases-conditions/astigmatism/symptoms-causes/syc-20353835')\n",
        "article.download()\n",
        "article.parse()\n",
        "article.nlp()\n",
        "corpus = article.text"
      ],
      "execution_count": null,
      "outputs": []
    },
    {
      "cell_type": "code",
      "metadata": {
        "colab": {
          "base_uri": "https://localhost:8080/"
        },
        "id": "s6Pln3pRHjJx",
        "outputId": "3b6289f5-bac1-46a1-b87b-2215b9c4d59f"
      },
      "source": [
        "print(corpus)"
      ],
      "execution_count": null,
      "outputs": [
        {
          "output_type": "stream",
          "name": "stdout",
          "text": [
            "Overview\n",
            "\n",
            "Astigmatism (uh-STIG-muh-tiz-um) is a common and generally treatable imperfection in the curvature of the eye that causes blurred distance and near vision.\n",
            "\n",
            "Astigmatism occurs when either the front surface of the eye (cornea) or the lens inside the eye has mismatched curves. Instead of having one curve like a round ball, the surface is egg-shaped. This causes blurred vision at all distances.\n",
            "\n",
            "Astigmatism is often present at birth and may occur in combination with nearsightedness or farsightedness. Often it's not pronounced enough to require corrective action. When it is, treatment options are corrective lenses or surgery.\n",
            "\n",
            "Symptoms\n",
            "\n",
            "Signs and symptoms of astigmatism may include:\n",
            "\n",
            "Blurred or distorted vision\n",
            "\n",
            "Eyestrain or discomfort\n",
            "\n",
            "Headaches\n",
            "\n",
            "Difficulty with night vision\n",
            "\n",
            "Squinting\n",
            "\n",
            "When to see a doctor\n",
            "\n",
            "See an eye doctor if your eye symptoms detract from your enjoyment of activities or interfere with your ability to perform everyday tasks. An eye doctor can determine whether you have astigmatism and, if so, to what degree. He or she can then advise you of your options to correct your vision.\n",
            "\n",
            "Children and adolescents\n",
            "\n",
            "Children may not realize their vision is blurry, so they need to be screened for eye disease and have their vision tested by a pediatrician, an ophthalmologist, an optometrist or another trained screener at the following ages and intervals.\n",
            "\n",
            "During the newborn period\n",
            "\n",
            "At well-child visits until they reach school age\n",
            "\n",
            "During school years, every 1 to 2 years at well-child visits, at the eye doctor, or through school or public screenings\n",
            "\n",
            "Causes\n",
            "\n",
            "Simplified anatomy of the eye Open pop-up dialog box Close Simplified anatomy of the eye Simplified anatomy of the eye This simplified illustration of the eye shows the elements most involved in astigmatism: the cornea and the lens.\n",
            "\n",
            "Astigmatism Open pop-up dialog box Close Astigmatism Astigmatism Astigmatism is a type of refractive error caused when either the cornea or the lens has mismatched curves. This makes vision blurry because there are two image points.\n",
            "\n",
            "The eye has two structures with curved surfaces that bend (refract) light onto the retina, which makes the images:\n",
            "\n",
            "The cornea, the clear front surface of the eye along with the tear film\n",
            "\n",
            "The lens, a clear structure inside the eye that changes shape to help the eye focus on near objects\n",
            "\n",
            "In a perfectly shaped eye, each of these elements has a round curvature, like the surface of a smooth ball. A cornea or lens with such curvature bends (refracts) all incoming light equally to make a sharply focused image directly on the retina at the back of the eye.\n",
            "\n",
            "A refractive error\n",
            "\n",
            "If either the cornea or the lens is egg-shaped with two mismatched curves, light rays aren't bent the same, which means that two different images form. These two images overlap or combine and result in blurred vision. Astigmatism is a type of refractive error.\n",
            "\n",
            "Astigmatism occurs when the cornea or lens is curved more steeply in one direction than in another. You have corneal astigmatism if your cornea has mismatched curves. You have lenticular astigmatism if your lens has mismatched curves.\n",
            "\n",
            "Either type of astigmatism can cause blurred vision. Blurred vision may occur more in one direction: horizontally, vertically or diagonally.\n",
            "\n",
            "Astigmatism may be present from birth, or it may develop after an eye injury, disease or surgery. Astigmatism isn't caused or made worse by reading in poor light, sitting too close to the television or squinting.\n",
            "\n",
            "Other refractive errors\n",
            "\n",
            "Astigmatism may occur in combination with other refractive errors, which include:\n"
          ]
        }
      ]
    },
    {
      "cell_type": "code",
      "metadata": {
        "id": "XeFVIEWNHp0J"
      },
      "source": [
        "text = corpus\n",
        "sentence_list=nltk.sent_tokenize(text)"
      ],
      "execution_count": null,
      "outputs": []
    },
    {
      "cell_type": "code",
      "metadata": {
        "colab": {
          "base_uri": "https://localhost:8080/"
        },
        "id": "R7h6z8BuINJ-",
        "outputId": "d6e1090e-9eb5-4c3d-c575-f022c2479837"
      },
      "source": [
        "print(sentence_list)"
      ],
      "execution_count": null,
      "outputs": [
        {
          "output_type": "stream",
          "name": "stdout",
          "text": [
            "['Overview\\n\\nAstigmatism (uh-STIG-muh-tiz-um) is a common and generally treatable imperfection in the curvature of the eye that causes blurred distance and near vision.', 'Astigmatism occurs when either the front surface of the eye (cornea) or the lens inside the eye has mismatched curves.', 'Instead of having one curve like a round ball, the surface is egg-shaped.', 'This causes blurred vision at all distances.', 'Astigmatism is often present at birth and may occur in combination with nearsightedness or farsightedness.', \"Often it's not pronounced enough to require corrective action.\", 'When it is, treatment options are corrective lenses or surgery.', 'Symptoms\\n\\nSigns and symptoms of astigmatism may include:\\n\\nBlurred or distorted vision\\n\\nEyestrain or discomfort\\n\\nHeadaches\\n\\nDifficulty with night vision\\n\\nSquinting\\n\\nWhen to see a doctor\\n\\nSee an eye doctor if your eye symptoms detract from your enjoyment of activities or interfere with your ability to perform everyday tasks.', 'An eye doctor can determine whether you have astigmatism and, if so, to what degree.', 'He or she can then advise you of your options to correct your vision.', 'Children and adolescents\\n\\nChildren may not realize their vision is blurry, so they need to be screened for eye disease and have their vision tested by a pediatrician, an ophthalmologist, an optometrist or another trained screener at the following ages and intervals.', 'During the newborn period\\n\\nAt well-child visits until they reach school age\\n\\nDuring school years, every 1 to 2 years at well-child visits, at the eye doctor, or through school or public screenings\\n\\nCauses\\n\\nSimplified anatomy of the eye Open pop-up dialog box Close Simplified anatomy of the eye Simplified anatomy of the eye This simplified illustration of the eye shows the elements most involved in astigmatism: the cornea and the lens.', 'Astigmatism Open pop-up dialog box Close Astigmatism Astigmatism Astigmatism is a type of refractive error caused when either the cornea or the lens has mismatched curves.', 'This makes vision blurry because there are two image points.', 'The eye has two structures with curved surfaces that bend (refract) light onto the retina, which makes the images:\\n\\nThe cornea, the clear front surface of the eye along with the tear film\\n\\nThe lens, a clear structure inside the eye that changes shape to help the eye focus on near objects\\n\\nIn a perfectly shaped eye, each of these elements has a round curvature, like the surface of a smooth ball.', 'A cornea or lens with such curvature bends (refracts) all incoming light equally to make a sharply focused image directly on the retina at the back of the eye.', \"A refractive error\\n\\nIf either the cornea or the lens is egg-shaped with two mismatched curves, light rays aren't bent the same, which means that two different images form.\", 'These two images overlap or combine and result in blurred vision.', 'Astigmatism is a type of refractive error.', 'Astigmatism occurs when the cornea or lens is curved more steeply in one direction than in another.', 'You have corneal astigmatism if your cornea has mismatched curves.', 'You have lenticular astigmatism if your lens has mismatched curves.', 'Either type of astigmatism can cause blurred vision.', 'Blurred vision may occur more in one direction: horizontally, vertically or diagonally.', 'Astigmatism may be present from birth, or it may develop after an eye injury, disease or surgery.', \"Astigmatism isn't caused or made worse by reading in poor light, sitting too close to the television or squinting.\", 'Other refractive errors\\n\\nAstigmatism may occur in combination with other refractive errors, which include:']\n"
          ]
        }
      ]
    },
    {
      "cell_type": "code",
      "metadata": {
        "id": "nnyyW_rKIRgP"
      },
      "source": [
        "def greeting_response(text):\n",
        "  text = text.lower()\n",
        "\n",
        "  bot_greetings = ('howdy','hi', 'hello','hey','hola')\n",
        "  user_greetings= ('howdy','hi','heya','hola','howdy','wassup')\n",
        "  for word in text.split():\n",
        "    if word in user_greetings:\n",
        "      return random.choice(bot_greetings)\n",
        "      "
      ],
      "execution_count": null,
      "outputs": []
    },
    {
      "cell_type": "code",
      "metadata": {
        "id": "DGypFHyXZ5hL"
      },
      "source": [
        "def index_sort(list_var):\n",
        "  length = len(list_var)\n",
        "  list_index = list(range(0,length))\n",
        "\n",
        "  x = list_var\n",
        "\n",
        "  for i in range(length):\n",
        "    for j in range(length):\n",
        "      if x[list_index[i]] > x[list_index[j]]:\n",
        "        temp = list_index[i]\n",
        "        list_index[i] = list_index[j]\n",
        "        list_index[j] = temp\n",
        "        \n",
        "  return list_index "
      ],
      "execution_count": null,
      "outputs": []
    },
    {
      "cell_type": "code",
      "metadata": {
        "id": "w6d65COiMnG2"
      },
      "source": [
        "def bot_response(user_input):\n",
        "  user_input = user_input.lower()\n",
        "  sentence_list.append(user_input)\n",
        "  bot_response=''\n",
        "  cm = CountVectorizer().fit_transform(sentence_list)\n",
        "  similarity_scores = cosine_similarity(cm[-1], cm)\n",
        "  similarity_scores_list=similarity_scores.flatten()\n",
        "  index = index_sort(similarity_scores_list)\n",
        "  index = index[1:]\n",
        "  response_flag = 0\n",
        "\n",
        "  j=0\n",
        "  for i in range(len(index)):\n",
        "    if similarity_scores_list[index[i]] > 0.0:\n",
        "      bot_response= bot_response+' '+sentence_list[index[i]]ecit\n",
        "      \n",
        "      response_flag =1\n",
        "      j = j+1\n",
        "    if j>2:\n",
        "      break\n",
        "\n",
        "  if response_flag == 0:\n",
        "    bot_response = bot_response + ' ' + \"I apologise, I don't Understand. \"\n",
        "\n",
        "  sentence_list.remove(user_input)\n",
        "\n",
        "  return bot_response"
      ],
      "execution_count": null,
      "outputs": []
    },
    {
      "cell_type": "code",
      "metadata": {
        "colab": {
          "base_uri": "https://localhost:8080/"
        },
        "id": "RsGbxCHgcKhk",
        "outputId": "0e1f6776-2cd4-402c-cbed-09fcdd6711c3"
      },
      "source": [
        "print(\"Doc Bot : I am Doctor Bot or Doc Bot in short. i will answer your queries about Chronic Kidney Disease. If you want to exit, type bye.\")\n",
        "\n",
        "exit_list = ['exit', \"see you later\", 'bye', 'quit', \"break\"]\n",
        "\n",
        "\n",
        "while (True):\n",
        "  user_input = input()\n",
        "  if user_input.lower() in exit_list:\n",
        "    print(\"Doc Bot : Chat with you later\")\n",
        "    break\n",
        "  else:\n",
        "    if greeting_response(user_input) != None:\n",
        "      print('Doc Bot : '+greeting_response(user_input))\n",
        "    else:\n",
        "      print('Doc Bot : '+bot_response(user_input))"
      ],
      "execution_count": null,
      "outputs": [
        {
          "output_type": "stream",
          "name": "stdout",
          "text": [
            "Doc Bot : I am Doctor Bot or Doc Bot in short. i will answer your queries about Chronic Kidney Disease. If you want to exit, type bye.\n",
            "What is astigmatism \n",
            "Doc Bot :  Astigmatism is a type of refractive error. Astigmatism Open pop-up dialog box Close Astigmatism Astigmatism Astigmatism is a type of refractive error caused when either the cornea or the lens has mismatched curves. An eye doctor can determine whether you have astigmatism and, if so, to what degree.\n",
            "Exit\n",
            "Doc Bot : Chat with you later\n"
          ]
        }
      ]
    }
  ]
}